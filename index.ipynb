{
 "cells": [
  {
   "cell_type": "markdown",
   "metadata": {},
   "source": [
    "# Folium - Codealong\n",
    "\n",
    "## Introduction \n",
    "\n",
    "In this codealong, we'll take a look at how to create an interactive map using the Folium package. From there, we'll return to APIs in the final lab for the day where you'll make an interactive map from your requests to the API!\n",
    "\n",
    "## Objectives\n",
    "\n",
    "You will be able to: \n",
    "* Create maps with Folium"
   ]
  },
  {
   "cell_type": "markdown",
   "metadata": {},
   "source": [
    "## Creating a Basemap\n",
    "\n",
    "Here we'll take a look at creating a basemap over the London region!"
   ]
  },
  {
   "cell_type": "code",
   "execution_count": 1,
   "metadata": {
    "scrolled": false
   },
   "outputs": [
    {
     "data": {
      "text/html": [
       "<div style=\"width:100%;\"><div style=\"position:relative;width:100%;height:0;padding-bottom:60%;\"><iframe src=\"data:text/html;charset=utf-8;base64,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\" style=\"position:absolute;width:100%;height:100%;left:0;top:0;border:none !important;\" allowfullscreen webkitallowfullscreen mozallowfullscreen></iframe></div></div>"
      ],
      "text/plain": [
       "<folium.folium.Map at 0x7f75e45cccf8>"
      ]
     },
     "execution_count": 1,
     "metadata": {},
     "output_type": "execute_result"
    }
   ],
   "source": [
    "import folium\n",
    "\n",
    "lat = 51.51\n",
    "long = -0.14\n",
    "\n",
    "#Create a map of the area\n",
    "base_map = folium.Map([lat, long], zoom_start=13)\n",
    "base_map"
   ]
  },
  {
   "cell_type": "markdown",
   "metadata": {},
   "source": [
    "## Adding Markers to the Map\n",
    "\n",
    "Great! Now let's take a look at adding little markers to our map!\n",
    "\n",
    "**Note:** you may have to zoom out to see all of the markers!"
   ]
  },
  {
   "cell_type": "code",
   "execution_count": 2,
   "metadata": {},
   "outputs": [
    {
     "data": {
      "text/html": [
       "<div style=\"width:100%;\"><div style=\"position:relative;width:100%;height:0;padding-bottom:60%;\"><iframe src=\"data:text/html;charset=utf-8;base64,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\" style=\"position:absolute;width:100%;height:100%;left:0;top:0;border:none !important;\" allowfullscreen webkitallowfullscreen mozallowfullscreen></iframe></div></div>"
      ],
      "text/plain": [
       "<folium.folium.Map at 0x7f75e45cccf8>"
      ]
     },
     "execution_count": 2,
     "metadata": {},
     "output_type": "execute_result"
    }
   ],
   "source": [
    "import numpy as np\n",
    "\n",
    "#Generate some random locations to add to our map\n",
    "x = [lat + np.random.uniform(-.1,.1) for i in range(20)]\n",
    "y = [long + np.random.uniform(-.1,.1) for i in range(20)]\n",
    "points = list(zip(x, y))\n",
    "for p in points:\n",
    "    lat = p[0]\n",
    "    long = p[1]\n",
    "    marker = folium.Marker(location=[lat, long])\n",
    "    marker.add_to(base_map)\n",
    "base_map"
   ]
  },
  {
   "cell_type": "markdown",
   "metadata": {},
   "source": [
    "## Adding Pop-up Boxes to Our Markers\n",
    "\n",
    "Often we may wish to not only place markers on the map, but to create interactive pop-ups which display information to that location. To do this, we can add a popup to our markers when adding them to the map! "
   ]
  },
  {
   "cell_type": "code",
   "execution_count": null,
   "metadata": {},
   "outputs": [],
   "source": [
    "for p in points:\n",
    "    lat = p[0]\n",
    "    long = p[1]\n",
    "    popup_text = \"Latitude: {}, Longitude: {}\".format(lat,long)\n",
    "    popup = folium.Popup(popup_text, parse_html=True)\n",
    "    marker = folium.Marker(location=[lat, long], popup=popup)\n",
    "    marker.add_to(base_map)\n",
    "base_map"
   ]
  },
  {
   "cell_type": "markdown",
   "metadata": {},
   "source": [
    "Now, if you click on the map markers, you should see a little information box pop up!\n",
    "\n",
    "## Summary \n",
    "\n",
    "In this codealong, we learned how to use Folium to create some cool interactive maps with only a few lines of python code! In the next lab, you'll synthesize your skills for the day together and create an interactive visualization map for data you retrieve from the Yelp API!"
   ]
  }
 ],
 "metadata": {
  "kernelspec": {
   "display_name": "Python 3",
   "language": "python",
   "name": "python3"
  },
  "language_info": {
   "codemirror_mode": {
    "name": "ipython",
    "version": 3
   },
   "file_extension": ".py",
   "mimetype": "text/x-python",
   "name": "python",
   "nbconvert_exporter": "python",
   "pygments_lexer": "ipython3",
   "version": "3.6.6"
  }
 },
 "nbformat": 4,
 "nbformat_minor": 2
}
